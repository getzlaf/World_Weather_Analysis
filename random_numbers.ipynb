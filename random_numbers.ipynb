{
 "cells": [
  {
   "cell_type": "code",
   "execution_count": 1,
   "id": "fdf5a0e2",
   "metadata": {},
   "outputs": [],
   "source": [
    "import random"
   ]
  },
  {
   "cell_type": "code",
   "execution_count": 2,
   "id": "486094d7",
   "metadata": {},
   "outputs": [
    {
     "data": {
      "text/plain": [
       "-77"
      ]
     },
     "execution_count": 2,
     "metadata": {},
     "output_type": "execute_result"
    }
   ],
   "source": [
    "random.randint(-90, 90)"
   ]
  },
  {
   "cell_type": "code",
   "execution_count": 3,
   "id": "295b5fd4",
   "metadata": {},
   "outputs": [
    {
     "data": {
      "text/plain": [
       "0.1414587497174794"
      ]
     },
     "execution_count": 3,
     "metadata": {},
     "output_type": "execute_result"
    }
   ],
   "source": [
    "random.random()"
   ]
  },
  {
   "cell_type": "code",
   "execution_count": 6,
   "id": "1fd59000",
   "metadata": {},
   "outputs": [
    {
     "data": {
      "text/plain": [
       "[-8.74599105513503,\n",
       " -28.10864500274151,\n",
       " 82.16736853501058,\n",
       " 54.69408708263515,\n",
       " -8.079552153067134,\n",
       " 42.836967798515886,\n",
       " 56.842487355080536,\n",
       " -2.570804062103856,\n",
       " -73.21871328276043,\n",
       " 83.55268025489511]"
      ]
     },
     "execution_count": 6,
     "metadata": {},
     "output_type": "execute_result"
    }
   ],
   "source": [
    "x = 1\n",
    "latitudes = []\n",
    "while x < 11:\n",
    "    random_lat = random.randint(-90, 89) + random.random()\n",
    "    latitudes.append(random_lat)\n",
    "    x += 1\n",
    "latitudes"
   ]
  },
  {
   "cell_type": "code",
   "execution_count": 7,
   "id": "6843d3e3",
   "metadata": {},
   "outputs": [
    {
     "data": {
      "text/plain": [
       "-73.55334446937528"
      ]
     },
     "execution_count": 7,
     "metadata": {},
     "output_type": "execute_result"
    }
   ],
   "source": [
    "random.uniform(-90, 90)"
   ]
  },
  {
   "cell_type": "code",
   "execution_count": 8,
   "id": "9065b4b7",
   "metadata": {},
   "outputs": [],
   "source": [
    "import numpy as np"
   ]
  },
  {
   "cell_type": "code",
   "execution_count": 9,
   "id": "ff4a1cb0",
   "metadata": {},
   "outputs": [
    {
     "data": {
      "text/plain": [
       "82.04615224156544"
      ]
     },
     "execution_count": 9,
     "metadata": {},
     "output_type": "execute_result"
    }
   ],
   "source": [
    "np.random.uniform(-90.000, 90.000)"
   ]
  },
  {
   "cell_type": "code",
   "execution_count": 10,
   "id": "3728feca",
   "metadata": {},
   "outputs": [
    {
     "data": {
      "text/plain": [
       "array([ 79.83831196, -62.27562732,  35.73412253, -15.69581025,\n",
       "       -66.4957401 ,  43.84813402,  62.88807833,  74.44759506,\n",
       "        41.55554123,  84.19156369,  74.22292646, -73.04358751,\n",
       "        74.62783593, -60.87011968, -43.16107742, -48.24694665,\n",
       "       -69.99648376, -78.82484906, -54.59613577,  18.46080097,\n",
       "        56.48646746, -20.12337646, -23.40246403, -48.82078295,\n",
       "       -82.05757797,  66.22408815, -82.61270255,  81.16256056,\n",
       "       -79.5557061 ,  14.8379535 , -69.13362915,  40.06233684,\n",
       "        -9.05522701,  36.3472753 ,  66.91126809,  44.12077801,\n",
       "        -5.15145314,  13.10830836,  15.9150494 , -51.05335338,\n",
       "        61.23633862, -73.80224062,  68.93731222, -32.12477348,\n",
       "        41.87402648,  69.65865559,  17.92253148,  15.82500242,\n",
       "         3.33951136,  70.42886364])"
      ]
     },
     "execution_count": 10,
     "metadata": {},
     "output_type": "execute_result"
    }
   ],
   "source": [
    "np.random.uniform(-90.000, 90.000, size=50)"
   ]
  },
  {
   "cell_type": "code",
   "execution_count": 11,
   "id": "55a712c4",
   "metadata": {},
   "outputs": [],
   "source": [
    "# Import timeit.\n",
    "import timeit"
   ]
  },
  {
   "cell_type": "code",
   "execution_count": 12,
   "id": "b6e57d49",
   "metadata": {},
   "outputs": [
    {
     "name": "stdout",
     "output_type": "stream",
     "text": [
      "20.1 µs ± 478 ns per loop (mean ± std. dev. of 7 runs, 10000 loops each)\n"
     ]
    }
   ],
   "source": [
    "%timeit np.random.uniform(-90.000, 90.000, size=1500)"
   ]
  },
  {
   "cell_type": "code",
   "execution_count": 13,
   "id": "2b21f773",
   "metadata": {},
   "outputs": [
    {
     "name": "stdout",
     "output_type": "stream",
     "text": [
      "2.57 ms ± 219 µs per loop (mean ± std. dev. of 7 runs, 100 loops each)\n"
     ]
    }
   ],
   "source": [
    "def latitudes(size):\n",
    "    latitudes = []\n",
    "    x = 0\n",
    "    while x < (size):\n",
    "        random_lat = random.randint(-90, 90) + random.random()\n",
    "        latitudes.append(random_lat)\n",
    "        x += 1\n",
    "    return latitudes\n",
    "# Call the function with 1500.\n",
    "%timeit latitudes(1500)"
   ]
  },
  {
   "cell_type": "code",
   "execution_count": null,
   "id": "4c66f0e4",
   "metadata": {},
   "outputs": [],
   "source": []
  }
 ],
 "metadata": {
  "kernelspec": {
   "display_name": "PythonData",
   "language": "python",
   "name": "pythondata"
  },
  "language_info": {
   "codemirror_mode": {
    "name": "ipython",
    "version": 3
   },
   "file_extension": ".py",
   "mimetype": "text/x-python",
   "name": "python",
   "nbconvert_exporter": "python",
   "pygments_lexer": "ipython3",
   "version": "3.7.11"
  }
 },
 "nbformat": 4,
 "nbformat_minor": 5
}
